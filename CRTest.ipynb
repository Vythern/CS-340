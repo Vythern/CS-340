{
 "cells": [
  {
   "cell_type": "code",
   "execution_count": 2,
   "id": "067b053e",
   "metadata": {},
   "outputs": [
    {
     "name": "stdout",
     "output_type": "stream",
     "text": [
      "Creating testEntry / test species and initializing dataset\n",
      "Reading the test species / entry\n",
      "{'name': 'testEntry', 'species': 'test'}\n",
      "Updating the test species / entry\n",
      "{'n': 1, 'nModified': 1, 'ok': 1.0, 'updatedExisting': True}\n",
      "Reading the updated item\n",
      "{'name': 'updatedEntry', 'species': 'test'}\n",
      "Running delete command.\n",
      "{'n': 1, 'ok': 1.0}\n",
      "Reading the same query- since there is no output, this shows that the entry is deleted\n"
     ]
    }
   ],
   "source": [
    "from animal_shelter import AnimalShelter\n",
    "\n",
    "print(\"Creating testEntry / test species and initializing dataset\")\n",
    "animals = AnimalShelter()\n",
    "dataDictionary = {'name': 'testEntry', 'species': 'test'}\n",
    "animals.create(dataDictionary)\n",
    "\n",
    "print(\"Reading the test species / entry\")\n",
    "\n",
    "query = animals.read({\"name\": \"testEntry\"})\n",
    "for animal in query:\n",
    "    print(animal)\n",
    "\n",
    "print(\"Updating the test species / entry\")\n",
    "    \n",
    "print(animals.update({\"name\": \"testEntry\"}, {\"name\": \"updatedEntry\"}))\n",
    "\n",
    "print(\"Reading the updated item\")\n",
    "query = animals.read({\"name\": \"updatedEntry\"})\n",
    "for animal in query:\n",
    "    print(animal)\n",
    "\n",
    "print(\"Running delete command.\")\n",
    "print(animals.delete({\"name\":  \"updatedEntry\"}))\n",
    "\n",
    "query = animals.read({\"name\": \"updatedEntry\"})\n",
    "for animal in query:\n",
    "    print(animal)\n",
    "    \n",
    "print(\"Reading the same query- since there is no output, this shows that the entry is deleted\")"
   ]
  },
  {
   "cell_type": "code",
   "execution_count": null,
   "id": "9dd7afa6",
   "metadata": {},
   "outputs": [],
   "source": [
    "\n",
    "\n"
   ]
  }
 ],
 "metadata": {
  "kernelspec": {
   "display_name": "Python 3 (ipykernel)",
   "language": "python",
   "name": "python3"
  },
  "language_info": {
   "codemirror_mode": {
    "name": "ipython",
    "version": 3
   },
   "file_extension": ".py",
   "mimetype": "text/x-python",
   "name": "python",
   "nbconvert_exporter": "python",
   "pygments_lexer": "ipython3",
   "version": "3.9.12"
  }
 },
 "nbformat": 4,
 "nbformat_minor": 5
}
